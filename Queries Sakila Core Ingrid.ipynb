{
 "cells": [
  {
   "cell_type": "markdown",
   "id": "07adf0f0",
   "metadata": {},
   "source": [
    "## Queries Sakila Core\n",
    "---\n",
    "* ### Ingrid Arbieto Nelson"
   ]
  },
  {
   "cell_type": "markdown",
   "id": "0f7d46e2",
   "metadata": {},
   "source": [
    "### Assignment:\n",
    "*  Create a new repository and notebook for this assignment.\n",
    "*  Using the Sakila database, complete the below queries with Python in your Jupyter Notebook.\n",
    "   *  You can use MySQL Workbench to test your queries and then copy and paste them into your notebook to perform with Pandas and SQLAlchemy.\n",
    "* You can get the Sakila database and ERD here (sakila-data.sql and sakila-db-model.png), please use these for reference.\n",
    "   *  Tip: you can insert the ERD into your notebook in a Markdown cell using: \\\"\\![png]\\(IMAGE_URL_HERE\\)\\\"\n",
    "   *  Replace \"IMAGE_URL_HERE\" with the link to the ERD above.\n",
    "   \n",
    "\n",
    "After performing all of your queries and displaying the answers to each question, save your notebook, commit the change to your repository and submit the repository URL for this assignment.\n",
    "\n",
    "\n",
    "Note: Even if you get stuck on a query, please submit your attempts to document your efforts!"
   ]
  },
  {
   "cell_type": "markdown",
   "id": "04d6a53c",
   "metadata": {},
   "source": [
    "<img src=\"Data/sakila-db-model.png\">"
   ]
  },
  {
   "cell_type": "code",
   "execution_count": 1,
   "id": "a0164763",
   "metadata": {},
   "outputs": [],
   "source": [
    "import pandas as pd"
   ]
  },
  {
   "cell_type": "markdown",
   "id": "21079efc",
   "metadata": {},
   "source": [
    "## Queries"
   ]
  },
  {
   "cell_type": "markdown",
   "id": "23009986",
   "metadata": {},
   "source": [
    "### 1 What query would you run to get all the customers inside city_id = 312? Your query should return the customers' first name, last name, email, address, and city."
   ]
  },
  {
   "cell_type": "markdown",
   "id": "92b0c322",
   "metadata": {},
   "source": [
    "### 2 What query would you run to get all comedy films? Note that the genre is called the category in this schema. Your query should return film title, description, release year, rating, and special features."
   ]
  },
  {
   "cell_type": "markdown",
   "id": "e708b719",
   "metadata": {},
   "source": [
    "### 3 What query would you run to get all the films that Johnny Lollobrigida was in? Your query should return the actor's last name, film title, and release year."
   ]
  },
  {
   "cell_type": "markdown",
   "id": "e86bc7a2",
   "metadata": {},
   "source": [
    "### 4 What query would you run to get the first and last names of all the actors in the movie titled \"Bingo Talented\"?"
   ]
  },
  {
   "cell_type": "markdown",
   "id": "5c0b8c56",
   "metadata": {},
   "source": [
    "### 5 What query would you run to get the customer_id associated with all payments greater than twice the average payment amount? (HINT: use 2* in your query to get twice the amount). Your result should include the customer id and the amount."
   ]
  },
  {
   "cell_type": "markdown",
   "id": "2455062e",
   "metadata": {},
   "source": [
    "### 6. What query would you run to list the first and last names of the 5 customers who have the highest number(count) of payments? You can title the number of payments as num_payments."
   ]
  }
 ],
 "metadata": {
  "kernelspec": {
   "display_name": "Python (dojo-env)",
   "language": "python",
   "name": "dojo-env"
  },
  "language_info": {
   "codemirror_mode": {
    "name": "ipython",
    "version": 3
   },
   "file_extension": ".py",
   "mimetype": "text/x-python",
   "name": "python",
   "nbconvert_exporter": "python",
   "pygments_lexer": "ipython3",
   "version": "3.9.15"
  },
  "toc": {
   "base_numbering": 1,
   "nav_menu": {},
   "number_sections": false,
   "sideBar": true,
   "skip_h1_title": false,
   "title_cell": "Table of Contents",
   "title_sidebar": "Contents",
   "toc_cell": true,
   "toc_position": {},
   "toc_section_display": true,
   "toc_window_display": false
  }
 },
 "nbformat": 4,
 "nbformat_minor": 5
}
